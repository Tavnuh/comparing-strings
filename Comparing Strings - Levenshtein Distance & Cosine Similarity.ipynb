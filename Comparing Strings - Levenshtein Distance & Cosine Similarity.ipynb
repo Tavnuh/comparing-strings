{
 "cells": [
  {
   "cell_type": "markdown",
   "metadata": {},
   "source": [
    "## Comparing strings\n",
    "\n",
    "Credit: Built on top of the work of Dario Radecic in [Calculating String Similarity](https://towardsdatascience.com/calculating-string-similarity-in-python-276e18a7d33a)"
   ]
  },
  {
   "cell_type": "code",
   "execution_count": 13,
   "metadata": {},
   "outputs": [],
   "source": [
    "import string\n",
    "import Levenshtein\n",
    "import re"
   ]
  },
  {
   "cell_type": "markdown",
   "metadata": {},
   "source": [
    "## Comparing email and name with Levenshtein Distance"
   ]
  },
  {
   "cell_type": "markdown",
   "metadata": {},
   "source": [
    "In information theory, linguistics and computer science, the Levenshtein distance is a string metric for measuring the difference between two sequences. Informally, the Levenshtein distance between two words is the minimum number of single-character edits (insertions, deletions or substitutions) required to change one word into the other."
   ]
  },
  {
   "cell_type": "markdown",
   "metadata": {},
   "source": [
    "##### Note\n",
    "Levenshtein Distance is case sensitive, so make sure to lower() everything before comparison, and strip out any punctuation"
   ]
  },
  {
   "cell_type": "code",
   "execution_count": 56,
   "metadata": {},
   "outputs": [
    {
     "name": "stdout",
     "output_type": "stream",
     "text": [
      "0\n",
      "michael taverner\n",
      "michael taverner\n"
     ]
    }
   ],
   "source": [
    "name = 'Michael Taverner'\n",
    "email = 'michael.taverner1-2@hotmail.com'\n",
    "\n",
    "lower_name = str.lower(name)\n",
    "lower_email = str.lower(str.split(email,'@')[0])\n",
    "nopunc_email = re.sub('[!@#$%^&*()-=+.,]', ' ', lower_email)\n",
    "nonum_email = re.sub(r'[0-9]+', '', nopunc_email).strip()\n",
    "\n",
    "distance = Levenshtein.distance(lower_name,nonum_email)\n",
    "print(distance)\n",
    "print(lower_name)\n",
    "print(nonum_email)"
   ]
  },
  {
   "cell_type": "markdown",
   "metadata": {},
   "source": [
    "1. Assigned email and name variables\n",
    "2. Lower cased the name\n",
    "3. Lower cased the email, split it on the @ symbol and selected the first element\n",
    "4. Replaced common punctuation in emails with a space\n",
    "5. Replaced any numeric characters with an empty string and stripped the whitespace\n",
    "6. Calculated the Levenshtein distance, which measures the number of changes required to get from one string to the other\n",
    "\n",
    "As hoped, the resulting distance is 0, meaning 0 changes were required to get from the name to the email.\n"
   ]
  },
  {
   "cell_type": "markdown",
   "metadata": {},
   "source": [
    "### Function"
   ]
  },
  {
   "cell_type": "code",
   "execution_count": 71,
   "metadata": {},
   "outputs": [],
   "source": [
    "def compare_email_name(email, name):\n",
    "    name = name\n",
    "    email = email\n",
    "\n",
    "    lower_name = str.lower(name)\n",
    "    lower_email = str.lower(str.split(email,'@')[0])\n",
    "    nopunc_email = re.sub('[!@#$%^&*()-=+.,]', ' ', lower_email)\n",
    "    nonum_email = re.sub(r'[0-9]+', '', nopunc_email).strip()\n",
    "\n",
    "    distance = Levenshtein.distance(lower_name,nonum_email)\n",
    "    #print(f'The name {lower_name} is {distance} characters different to the email {email}')\n",
    "    return distance"
   ]
  },
  {
   "cell_type": "code",
   "execution_count": 72,
   "metadata": {},
   "outputs": [
    {
     "data": {
      "text/plain": [
       "0"
      ]
     },
     "execution_count": 72,
     "metadata": {},
     "output_type": "execute_result"
    }
   ],
   "source": [
    "compare_email_name(name = 'Michael Taverner', email = 'michael.taverner1-2@hotmail.com')"
   ]
  },
  {
   "cell_type": "markdown",
   "metadata": {},
   "source": [
    "## Cosine Similarity\n",
    "\n",
    "Cosine similarity is a measure of similarity between two non-zero vectors of an inner product space that measures the cosine of the angle between them."
   ]
  },
  {
   "cell_type": "code",
   "execution_count": 74,
   "metadata": {},
   "outputs": [],
   "source": [
    "import string\n",
    "from sklearn.metrics.pairwise import cosine_similarity\n",
    "from sklearn.feature_extraction.text import CountVectorizer\n",
    "from nltk.corpus import stopwords\n",
    "\n",
    "stopwords = stopwords.words('english')"
   ]
  },
  {
   "cell_type": "code",
   "execution_count": 92,
   "metadata": {},
   "outputs": [],
   "source": [
    "sentences = ['This is a foo bar sentence.',\n",
    "             'This sentence is similar to a foo bar sentence.',\n",
    "             'This is another string, but it is not quite similar to the previous ones.',\n",
    "             'This is just another string.']"
   ]
  },
  {
   "cell_type": "code",
   "execution_count": 93,
   "metadata": {},
   "outputs": [],
   "source": [
    "def clean_string(text):\n",
    "    text = ''.join([word for word in text if word not in string.punctuation])\n",
    "    text = text.lower()\n",
    "    text = ' '.join([word for word in text.split() if word not in stopwords])\n",
    "    \n",
    "    return text"
   ]
  },
  {
   "cell_type": "code",
   "execution_count": 94,
   "metadata": {},
   "outputs": [
    {
     "data": {
      "text/plain": [
       "['foo bar sentence',\n",
       " 'sentence similar foo bar sentence',\n",
       " 'another string quite similar previous ones',\n",
       " 'another string']"
      ]
     },
     "execution_count": 94,
     "metadata": {},
     "output_type": "execute_result"
    }
   ],
   "source": [
    "cleaned = list(map(clean_string, sentences))\n",
    "cleaned"
   ]
  },
  {
   "cell_type": "code",
   "execution_count": 95,
   "metadata": {},
   "outputs": [
    {
     "data": {
      "text/plain": [
       "array([[0, 1, 1, 0, 0, 0, 1, 0, 0],\n",
       "       [0, 1, 1, 0, 0, 0, 2, 1, 0],\n",
       "       [1, 0, 0, 1, 1, 1, 0, 1, 1],\n",
       "       [1, 0, 0, 0, 0, 0, 0, 0, 1]], dtype=int64)"
      ]
     },
     "execution_count": 95,
     "metadata": {},
     "output_type": "execute_result"
    }
   ],
   "source": [
    "vectorizer = CountVectorizer().fit_transform(cleaned)\n",
    "vectors = vectorizer.toarray()\n",
    "vectors"
   ]
  },
  {
   "cell_type": "code",
   "execution_count": 96,
   "metadata": {},
   "outputs": [
    {
     "data": {
      "text/plain": [
       "array([[1.        , 0.87287156, 0.        , 0.        ],\n",
       "       [0.87287156, 1.        , 0.15430335, 0.        ],\n",
       "       [0.        , 0.15430335, 1.        , 0.57735027],\n",
       "       [0.        , 0.        , 0.57735027, 1.        ]])"
      ]
     },
     "execution_count": 96,
     "metadata": {},
     "output_type": "execute_result"
    }
   ],
   "source": [
    "csim = cosine_similarity(vectors)\n",
    "csim"
   ]
  },
  {
   "cell_type": "code",
   "execution_count": 97,
   "metadata": {},
   "outputs": [],
   "source": [
    "def cosine_sim_vectors(vec1, vec2):\n",
    "    vec1 = vec1.reshape(1,-1)\n",
    "    vec2 = vec2.reshape(1,-1)\n",
    "    \n",
    "    return cosine_similarity(vec1, vec2)[0][0]"
   ]
  },
  {
   "cell_type": "code",
   "execution_count": 98,
   "metadata": {},
   "outputs": [
    {
     "data": {
      "text/plain": [
       "0.8728715609439696"
      ]
     },
     "execution_count": 98,
     "metadata": {},
     "output_type": "execute_result"
    }
   ],
   "source": [
    "cosine_sim_vectors(vectors[0], vectors[1])"
   ]
  },
  {
   "cell_type": "markdown",
   "metadata": {},
   "source": [
    "### Concise"
   ]
  },
  {
   "cell_type": "code",
   "execution_count": 104,
   "metadata": {},
   "outputs": [
    {
     "data": {
      "text/plain": [
       "0.8728715609439696"
      ]
     },
     "execution_count": 104,
     "metadata": {},
     "output_type": "execute_result"
    }
   ],
   "source": [
    "sentences = ['This is a foo bar sentence.',\n",
    "             'This sentence is similar to a foo bar sentence.']\n",
    "\n",
    "def clean_string(text):\n",
    "    text = ''.join([word for word in text if word not in string.punctuation])\n",
    "    text = text.lower()\n",
    "    text = ' '.join([word for word in text.split() if word not in stopwords])\n",
    "    \n",
    "    return text\n",
    "\n",
    "cleaned = list(map(clean_string, sentences))\n",
    "cleaned\n",
    "\n",
    "vectorizer = CountVectorizer().fit_transform(cleaned)\n",
    "vectors = vectorizer.toarray()\n",
    "\n",
    "csim = cosine_similarity(vectors)\n",
    "\n",
    "def cosine_sim_vectors(vec1, vec2):\n",
    "    vec1 = vec1.reshape(1,-1)\n",
    "    vec2 = vec2.reshape(1,-1)\n",
    "    \n",
    "    return cosine_similarity(vec1, vec2)[0][0]\n",
    "\n",
    "cosine_sim_vectors(vectors[0], vectors[1])"
   ]
  },
  {
   "cell_type": "code",
   "execution_count": null,
   "metadata": {},
   "outputs": [],
   "source": []
  }
 ],
 "metadata": {
  "kernelspec": {
   "display_name": "Python 3",
   "language": "python",
   "name": "python3"
  },
  "language_info": {
   "codemirror_mode": {
    "name": "ipython",
    "version": 3
   },
   "file_extension": ".py",
   "mimetype": "text/x-python",
   "name": "python",
   "nbconvert_exporter": "python",
   "pygments_lexer": "ipython3",
   "version": "3.7.6"
  }
 },
 "nbformat": 4,
 "nbformat_minor": 4
}
